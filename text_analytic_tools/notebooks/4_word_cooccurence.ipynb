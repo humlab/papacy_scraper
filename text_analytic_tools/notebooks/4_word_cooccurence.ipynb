{
 "cells": [
  {
   "cell_type": "markdown",
   "metadata": {},
   "outputs": [],
   "source": [
    "## Text Analysis - CO-OCCURRENCE\n",
    "### <span style='color: green'>SETUP </span> Prepare and Setup Notebook <span style='float: right; color: red'>MANDATORY</span>"
   ]
  },
  {
   "cell_type": "code",
   "execution_count": 9,
   "metadata": {},
   "outputs": [],
   "source": [
    "%load_ext autoreload\n",
    "%autoreload 2\n",
    "\n",
    "from beakerx.object import beakerx\n",
    "from beakerx import *\n",
    "\n",
    "from IPython.display import display #, set_matplotlib_formats\n",
    "import text_analytic_tools.utility as utility\n",
    "\n",
    "utility.setup_default_pd_display(pd)"
   ]
  },
  {
   "cell_type": "markdown",
   "metadata": {},
   "outputs": [],
   "source": [
    "## <span style='color: green'>PREPARE </span> HAL Co-Windows Ratio (CWR)<span style='float: right; color: red'>MANDATORY</span>\n",
    "\n",
    "Term \"HAL\" co-occurrence frequencies is calculated in accordance with Hyperspace Analogue to Language (Lund; Burgess, 1996) vector-space model. The computation is specified in detail in section 3.1 in (Chen; Lu, 2011).\n",
    "\n",
    "\\begin{aligned}\n",
    "nw(x) &= \\text{number of sliding windows that contains term $x$} \\\\\n",
    "nw(x, y) &= \\text{number of sliding windows that contains $x$ and $y$} \\\\\n",
    "\\\\\n",
    "f(x, y) &= \\text{normalized version of nw(x, y)} \\\\\n",
    "CWR(x, y) &= \\frac{nw(x, y)}{nw(x) + nw(y) - nw(x, y)}\\\\\n",
    "\\end{aligned}\n",
    "\n",
    "- Chen Z.; Lu Y., \"A Word Co-occurrence Matrix Based Method for Relevance Feedback\"\n",
    "- Lund, K.; Burgess, C. & Atchley, R. A. (1995). \"Semantic and associative priming in high-dimensional semantic space\".[Link](https://books.google.de/books?id=CSU_Mj07G7UC).\n",
    "- Lund, K.; Burgess, C. (1996). \"Producing high-dimensional semantic spaces from lexical co-occurrence\". doi:10.3758/bf03204766 [Link](https://dx.doi.org/10.3758%2Fbf03204766).\n"
   ]
  },
  {
   "cell_type": "markdown",
   "metadata": {},
   "outputs": [],
   "source": [
    "## <span style='color: green'>PREPARE </span> Compute Using Prepared Tokenized Corpus <span style='float: right; color: red'>MANDATORY</span>\n"
   ]
  },
  {
   "cell_type": "code",
   "execution_count": 13,
   "metadata": {},
   "outputs": [],
   "source": [
    "import time\n",
    "import ipywidgets\n",
    "import text_analytic_tools.text_analysis.co_occurrence as co_occurrence\n",
    "import text_analytic_tools.common.text_corpus as text_corpus\n",
    "from text_analytic_tools.domain_logic_config import current_domain as domain_logic\n",
    "\n",
    "def compute_co_occurrence(filepath, window_size=5, distance_metric=0, method='HAL', normalize='size'):\n",
    "\n",
    "    corpus = text_corpus.SimplePreparedTextCorpus(filepath, lowercase=True)\n",
    "    document_index = domain_logic.compile_documents(corpus)\n",
    "\n",
    "    df = co_occurrence.compute(corpus, document_index, window_size, distance_metric, normalize, method)\n",
    "\n",
    "    result_filename = '{}_{}_result_co_occurrence_{}.xlsx'.format(method, window_size, time.strftime(\"%Y%m%d_%H%M\"))\n",
    "    df.to_excel(result_filename)\n",
    "    print('Result saved to file {}'.format(result_filename))\n",
    "    print('Now you are ready to do some serious stuff!')\n"
   ]
  },
  {
   "cell_type": "code",
   "execution_count": 14,
   "metadata": {},
   "outputs": [],
   "source": [
    "\n",
    "ui = co_occurrence.PreparedCorpusUI(domain_logic.DATA_FOLDER)\n",
    "display(ui.build(compute_co_occurrence))\n"
   ]
  }
 ],
 "metadata": {
  "file_extension": ".py",
  "kernelspec": {
   "display_name": "Python 3",
   "language": "python",
   "name": "python3"
  },
  "language_info": {
   "codemirror_mode": {
    "name": "ipython",
    "version": 3
   },
   "file_extension": ".py",
   "mimetype": "text/x-python",
   "name": "python",
   "nbconvert_exporter": "python",
   "pygments_lexer": "ipython3",
   "version": "3.7.5"
  },
  "mimetype": "text/x-python",
  "name": "python",
  "npconvert_exporter": "python",
  "pygments_lexer": "ipython3",
  "version": 3
 },
 "nbformat": 4,
 "nbformat_minor": 4
}