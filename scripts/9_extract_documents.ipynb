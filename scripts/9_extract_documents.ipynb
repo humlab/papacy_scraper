{
 "cells": [
  {
   "cell_type": "code",
   "execution_count": 1,
   "metadata": {},
   "outputs": [],
   "source": [
    "import sys\n",
    "import pandas as pd\n",
    "from beakerx.object import beakerx\n",
    "from beakerx import *\n",
    "from IPython.display import display #, set_matplotlib_formats\n",
    "\n",
    "sys.path = list(set(['.', '..']) - set(sys.path)) + sys.path\n",
    "\n",
    "import domain.tCoIR.treaty_state"
   ]
  },
  {
   "cell_type": "code",
   "execution_count": 2,
   "metadata": {},
   "outputs": [
    {
     "name": "stdout",
     "output_type": "stream",
     "text": [
      "Skipping XXX022 not in WTI-index...\n",
      "Skipping XXX010 not in WTI-index...\n",
      "Skipping 418117 not in WTI-index...\n",
      "Skipping XXX027 not in WTI-index...\n",
      "Skipping 418678 not in WTI-index...\n",
      "Skipping 415293 not in WTI-index...\n",
      "Skipping XXX024 not in WTI-index...\n",
      "Skipping 476047 not in WTI-index...\n",
      "Skipping 304676 not in WTI-index...\n",
      "Skipping 200785 not in WTI-index...\n",
      "Skipping XXX028 not in WTI-index...\n",
      "Skipping XXX026 not in WTI-index...\n",
      "Skipping XXX011 not in WTI-index...\n",
      "Skipping XXX023 not in WTI-index...\n",
      "Skipping XXX020 not in WTI-index...\n",
      "Skipping 304572 not in WTI-index...\n",
      "Done!\n"
     ]
    }
   ],
   "source": [
    "import zipfile\n",
    "import typing\n",
    "import re\n",
    "import fnmatch\n",
    "import gensim\n",
    "\n",
    "\n",
    "HYPHEN_REGEXP = re.compile(r'\\b(\\w+)-\\s*\\r?\\n\\s*(\\w+)\\b', re.UNICODE)\n",
    "\n",
    "def dehyphen(text):\n",
    "    result = re.sub(HYPHEN_REGEXP, r\"\\1\\2\\n\", text)\n",
    "    return result\n",
    "\n",
    "def get_lang_filenames(archive_name, lang='fr'):\n",
    "    px = lambda x: pattern.match(x) if isinstance(pattern, typing.re.Pattern) else fnmatch.fnmatch(x, pattern)\n",
    "    with zipfile.ZipFile(archive_name) as zf:\n",
    "        return [ name for name in zf.namelist() if px(name) ]\n",
    "\n",
    "def read_content(archive_name, lang='fr'):\n",
    "    lang_pattern = '*_{}*.txt'.format(lang)\n",
    "    with zipfile.ZipFile(archive_name) as zf:\n",
    "        filenames = [ filename for filename in zf.namelist() if fnmatch.fnmatch(filename, lang_pattern) ]\n",
    "        for filename in filenames:\n",
    "            treaty_id, x_lang, *tail = filename.split('_')\n",
    "            with zf.open(filename, 'r') as text_file:\n",
    "                content = text_file.read()\n",
    "            content = gensim.utils.to_unicode(content, 'utf8', errors='ignore')\n",
    "            content = dehyphen(content)\n",
    "            yield treaty_id, filename, content\n",
    "    \n",
    "\n",
    "\n",
    "def create_zip_for_lang(treaties, lang, source_name, target_name):\n",
    "    with zipfile.ZipFile(target_name, \"w\") as zf:\n",
    "        for treaty_id, filename, text in read_content(source_name, lang=lang):\n",
    "            if not treaty_id in treaties.index:\n",
    "                print('Skipping {} not in WTI-index...'.format(treaty_id))\n",
    "                continue\n",
    "            year = treaties.loc[treaty_id]['signed_year']\n",
    "            store_name = '{}_{}_{}.txt'.format(year, treaty_id, lang)\n",
    "            zf.writestr(store_name, text, zipfile.ZIP_DEFLATED)\n",
    "    print('Done!')\n",
    "    \n",
    "\n",
    "lang = 'fr'\n",
    "source_name = '../../data/tCoIR/tCoIR_all.txt.zip'\n",
    "target_name = '../../data/tCoIR/tCoIR_{}_{}.txt.zip'.format(lang, time.strftime(\"%Y%m%d\"))\n",
    "\n",
    "treaty_repository = domain.tCoIR.treaty_state.TreatyState(data_folder='../../data/tCoIR/wti_index')\n",
    "\n",
    "treaties = treaty_repository.get_treaties(language=lang)\n",
    "create_zip_for_lang(treaties, lang, source_name, target_name)\n"
   ]
  },
  {
   "cell_type": "code",
   "execution_count": null,
   "metadata": {},
   "outputs": [],
   "source": []
  }
 ],
 "metadata": {
  "kernelspec": {
   "display_name": "Python 3",
   "language": "python",
   "name": "python3"
  },
  "language_info": {
   "codemirror_mode": {
    "name": "ipython",
    "version": 3
   },
   "file_extension": ".py",
   "mimetype": "text/x-python",
   "name": "python",
   "nbconvert_exporter": "python",
   "pygments_lexer": "ipython3",
   "version": "3.5.3"
  }
 },
 "nbformat": 4,
 "nbformat_minor": 2
}
