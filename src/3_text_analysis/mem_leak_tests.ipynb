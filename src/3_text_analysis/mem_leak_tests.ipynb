{
 "cells": [
  {
   "cell_type": "code",
   "execution_count": 58,
   "metadata": {},
   "outputs": [
    {
     "name": "stdout",
     "output_type": "stream",
     "text": [
      "MEM: 2.69 GB\n",
      "MEM: 2.69 GB\n",
      "MEM: 2.69 GB\n"
     ]
    }
   ],
   "source": [
    "import msgpack\n",
    "import spacy\n",
    "import textacy\n",
    "from spacy.language import Language as SpacyLang\n",
    "from spacy.tokens.doc import Doc as SpacyDoc\n",
    "from textacy import cache\n",
    "from textacy import compat\n",
    "from textacy.io.utils import open_sesame\n",
    "from pympler import asizeof\n",
    "import humanfriendly\n",
    "import os, sys, re, gc\n",
    "import psutil\n",
    "\n",
    "def remove_whitespace_entities(doc):\n",
    "    doc.ents = [ e for e in doc.ents if not e.text.isspace() ]\n",
    "    return doc\n",
    "\n",
    "def keep_hyphen_tokenizer(nlp):\n",
    "    infix_re = re.compile(r'''[.\\,\\?\\:\\;\\...\\‘\\’\\`\\“\\”\\\"\\'~]''')\n",
    "    prefix_re = spacy.util.compile_prefix_regex(nlp.Defaults.prefixes)\n",
    "    suffix_re = spacy.util.compile_suffix_regex(nlp.Defaults.suffixes)\n",
    "    \n",
    "def read_spacy_docs(fname, lang):\n",
    "    vocab = lang.vocab\n",
    "    docs = []\n",
    "    with open_sesame(fname, mode='rb') as f:\n",
    "\n",
    "        unpacker = msgpack.Unpacker(f, encoding='UTF-8')\n",
    "\n",
    "        for msg in unpacker:\n",
    "\n",
    "            if \"user_data_keys\" in msg:\n",
    "\n",
    "                user_data_keys = msgpack.loads(msg[\"user_data_keys\"], use_list=False, encoding='utf-8')\n",
    "                for encoding in ['utf-8', 'latin1']:\n",
    "                    try:\n",
    "                        user_data_values = msgpack.loads(msg[\"user_data_values\"], encoding=encoding)\n",
    "                    except:\n",
    "                        if encoding == 'latin1': raise\n",
    "\n",
    "                user_data = { key: value for key, value in compat.zip_(user_data_keys, user_data_values)}\n",
    "            else:\n",
    "                print('error')\n",
    "                user_data = None\n",
    "\n",
    "            text = msg[\"text\"]\n",
    "            attrs = msg[\"array_body\"]\n",
    "            words = []\n",
    "            spaces = []\n",
    "            start = 0\n",
    "            for i in compat.range_(attrs.shape[0]):\n",
    "                end = start + int(attrs[i, 0])\n",
    "                has_space = int(attrs[i, 1])\n",
    "                words.append(text[start: end])\n",
    "                spaces.append(bool(has_space))\n",
    "                start = end + has_space\n",
    "\n",
    "            spacy_doc = SpacyDoc(vocab, words=words, spaces=spaces, user_data=user_data)\n",
    "            spacy_doc = spacy_doc.from_array(msg[\"array_head\"][2:], attrs[:, 2:])\n",
    "            if \"sentiment\" in msg:\n",
    "                spacy_doc.sentiment = msg[\"sentiment\"]\n",
    "            if \"tensor\" in msg:\n",
    "                spacy_doc.tensor = msg[\"tensor\"]\n",
    "\n",
    "#            print(\n",
    "#                'msg: ' + humanfriendly.format_size(asizeof.asizeof(msg)),\n",
    "#                'words: ' + humanfriendly.format_size(asizeof.asizeof(words)),\n",
    "#                'array_head: ' + humanfriendly.format_size(asizeof.asizeof(msg[\"array_head\"])),\n",
    "#                'array_body: ' + humanfriendly.format_size(asizeof.asizeof(msg[\"array_body\"])),\n",
    "#                'spacy_doc: ', asizeof.asizeof(spacy_doc)\n",
    "#            )\n",
    "\n",
    "            docs.append(spacy_doc)\n",
    "    return docs\n",
    "\n",
    "p = psutil.Process(os.getpid())\n",
    "\n",
    "print('MEM: ' + humanfriendly.format_size(p.memory_info().rss))\n",
    "\n",
    "if 'corpus' in globals(): del corpus\n",
    "if 'nlp' in globals(): del nlp\n",
    "if 'docs' in globals(): del docs\n",
    "\n",
    "gc.collect()\n",
    "print('MEM: ' + humanfriendly.format_size(p.memory_info().rss))\n",
    "\n",
    "fname = '../../data/benedict-xvi_curated_20190326.txt_preprocessed_en__disable(parser,ner,textcat)_.bin.bz2'\n",
    "\n",
    "SpacyLang.factories['remove_whitespace_entities'] = lambda nlp, **cfg: remove_whitespace_entities\n",
    "\n",
    "nlp = spacy.load('en_core_web_sm', disable=['parser','ner','textcat'])\n",
    "nlp.tokenizer = keep_hyphen_tokenizer(nlp)\n",
    "\n",
    "docs = read_spacy_docs(fname, nlp)\n",
    "corpus = textacy.Corpus(docs=docs, lang=nlp)\n",
    "\n",
    "print('MEM: ' + humanfriendly.format_size(p.memory_info().rss))\n",
    "\n",
    "#for doc in corpus[:25]:\n",
    "#    doc_size = asizeof.asizeof(doc)\n",
    "#    print('MEM: ' + humanfriendly.format_size(doc_size))\n"
   ]
  },
  {
   "cell_type": "code",
   "execution_count": 47,
   "metadata": {},
   "outputs": [],
   "source": [
    "d = doc.spacy_doc\n",
    "def p(k,v):\n",
    "    x = asizeof.asizeof(v)\n",
    "    print(k, humanfriendly.format_size(x))\n",
    "    "
   ]
  },
  {
   "cell_type": "code",
   "execution_count": 57,
   "metadata": {},
   "outputs": [
    {
     "ename": "NameError",
     "evalue": "name 'gc' is not defined",
     "output_type": "error",
     "traceback": [
      "\u001b[0;31m---------------------------------------------------------------------------\u001b[0m",
      "\u001b[0;31mNameError\u001b[0m                                 Traceback (most recent call last)",
      "\u001b[0;32m<ipython-input-57-2a3de7253579>\u001b[0m in \u001b[0;36m<module>\u001b[0;34m\u001b[0m\n\u001b[1;32m      1\u001b[0m \u001b[0mget_ipython\u001b[0m\u001b[0;34m(\u001b[0m\u001b[0;34m)\u001b[0m\u001b[0;34m.\u001b[0m\u001b[0mrun_line_magic\u001b[0m\u001b[0;34m(\u001b[0m\u001b[0;34m'reset'\u001b[0m\u001b[0;34m,\u001b[0m \u001b[0;34m'-f'\u001b[0m\u001b[0;34m)\u001b[0m\u001b[0;34m\u001b[0m\u001b[0m\n\u001b[0;32m----> 2\u001b[0;31m \u001b[0mgc\u001b[0m\u001b[0;34m.\u001b[0m\u001b[0mcollect\u001b[0m\u001b[0;34m(\u001b[0m\u001b[0;34m)\u001b[0m\u001b[0;34m\u001b[0m\u001b[0m\n\u001b[0m",
      "\u001b[0;31mNameError\u001b[0m: name 'gc' is not defined"
     ]
    }
   ],
   "source": [
    "\n",
    "%reset -f\n"
   ]
  },
  {
   "cell_type": "code",
   "execution_count": 24,
   "metadata": {},
   "outputs": [
    {
     "name": "stdout",
     "output_type": "stream",
     "text": [
      "corpus_index failed\n",
      "_counted_ngrams failed\n",
      "spacy_stringstore failed\n",
      "corpus failed\n",
      "_counts failed\n",
      "spacy_doc failed\n",
      "spacy_vocab failed\n"
     ]
    }
   ],
   "source": [
    "for k in doc.__dict__.keys():\n",
    "    try:\n",
    "        x = asizeof.asizeof(doc[k])\n",
    "        print(k, humanfriendly.format_size(x))\n",
    "    except:\n",
    "        print(k, 'failed')\n",
    "\n"
   ]
  },
  {
   "cell_type": "code",
   "execution_count": 44,
   "metadata": {},
   "outputs": [
    {
     "data": {
      "text/plain": [
       "[('_', \"<class 'spacy.tokens.underscore.Underscore'>\"),\n",
       " ('__bytes__', \"<class 'builtin_function_or_method'>\"),\n",
       " ('__class__', \"<class 'type'>\"),\n",
       " ('__delattr__', \"<class 'method-wrapper'>\"),\n",
       " ('__dir__', \"<class 'builtin_function_or_method'>\"),\n",
       " ('__doc__', \"<class 'str'>\"),\n",
       " ('__eq__', \"<class 'method-wrapper'>\"),\n",
       " ('__format__', \"<class 'builtin_function_or_method'>\"),\n",
       " ('__ge__', \"<class 'method-wrapper'>\"),\n",
       " ('__getattribute__', \"<class 'method-wrapper'>\"),\n",
       " ('__getitem__', \"<class 'method-wrapper'>\"),\n",
       " ('__gt__', \"<class 'method-wrapper'>\"),\n",
       " ('__hash__', \"<class 'method-wrapper'>\"),\n",
       " ('__init__', \"<class 'method-wrapper'>\"),\n",
       " ('__iter__', \"<class 'method-wrapper'>\"),\n",
       " ('__le__', \"<class 'method-wrapper'>\"),\n",
       " ('__len__', \"<class 'method-wrapper'>\"),\n",
       " ('__lt__', \"<class 'method-wrapper'>\"),\n",
       " ('__ne__', \"<class 'method-wrapper'>\"),\n",
       " ('__new__', \"<class 'builtin_function_or_method'>\"),\n",
       " ('__pyx_vtable__', \"<class 'PyCapsule'>\"),\n",
       " ('__reduce__', \"<class 'builtin_function_or_method'>\"),\n",
       " ('__reduce_ex__', \"<class 'builtin_function_or_method'>\"),\n",
       " ('__repr__', \"<class 'method-wrapper'>\"),\n",
       " ('__setattr__', \"<class 'method-wrapper'>\"),\n",
       " ('__setstate__', \"<class 'builtin_function_or_method'>\"),\n",
       " ('__sizeof__', \"<class 'builtin_function_or_method'>\"),\n",
       " ('__str__', \"<class 'method-wrapper'>\"),\n",
       " ('__subclasshook__', \"<class 'builtin_function_or_method'>\"),\n",
       " ('__unicode__', \"<class 'builtin_function_or_method'>\"),\n",
       " ('_bulk_merge', \"<class 'builtin_function_or_method'>\"),\n",
       " ('_py_tokens', \"<class 'NoneType'>\"),\n",
       " ('_realloc', \"<class 'builtin_function_or_method'>\"),\n",
       " ('_vector', \"<class 'NoneType'>\"),\n",
       " ('_vector_norm', \"<class 'int'>\"),\n",
       " ('cats', \"<class 'dict'>\"),\n",
       " ('char_span', \"<class 'builtin_function_or_method'>\"),\n",
       " ('count_by', \"<class 'builtin_function_or_method'>\"),\n",
       " ('doc', \"<class 'spacy.tokens.doc.Doc'>\"),\n",
       " ('ents', \"<class 'tuple'>\"),\n",
       " ('extend_tensor', \"<class 'builtin_function_or_method'>\"),\n",
       " ('from_array', \"<class 'builtin_function_or_method'>\"),\n",
       " ('from_bytes', \"<class 'builtin_function_or_method'>\"),\n",
       " ('from_disk', \"<class 'builtin_function_or_method'>\"),\n",
       " ('get_extension', \"<class 'builtin_function_or_method'>\"),\n",
       " ('get_lca_matrix', \"<class 'builtin_function_or_method'>\"),\n",
       " ('has_extension', \"<class 'builtin_function_or_method'>\"),\n",
       " ('has_vector', \"<class 'bool'>\"),\n",
       " ('is_parsed', \"<class 'bool'>\"),\n",
       " ('is_sentenced', \"<class 'bool'>\"),\n",
       " ('is_tagged', \"<class 'bool'>\"),\n",
       " ('mem', \"<class 'cymem.cymem.Pool'>\"),\n",
       " ('merge', \"<class 'builtin_function_or_method'>\"),\n",
       " ('noun_chunks', \"<class 'generator'>\"),\n",
       " ('noun_chunks_iterator', \"<class 'function'>\"),\n",
       " ('print_tree', \"<class 'builtin_function_or_method'>\"),\n",
       " ('remove_extension', \"<class 'builtin_function_or_method'>\"),\n",
       " ('retokenize', \"<class 'builtin_function_or_method'>\"),\n",
       " ('sentiment', \"<class 'float'>\"),\n",
       " ('sents', \"<class 'generator'>\"),\n",
       " ('set_extension', \"<class 'builtin_function_or_method'>\"),\n",
       " ('similarity', \"<class 'builtin_function_or_method'>\"),\n",
       " ('tensor', \"<class 'numpy.ndarray'>\"),\n",
       " ('text', \"<class 'str'>\"),\n",
       " ('text_with_ws', \"<class 'str'>\"),\n",
       " ('to_array', \"<class 'builtin_function_or_method'>\"),\n",
       " ('to_bytes', \"<class 'builtin_function_or_method'>\"),\n",
       " ('to_disk', \"<class 'builtin_function_or_method'>\"),\n",
       " ('user_data', \"<class 'dict'>\"),\n",
       " ('user_hooks', \"<class 'dict'>\"),\n",
       " ('user_span_hooks', \"<class 'dict'>\"),\n",
       " ('user_token_hooks', \"<class 'dict'>\"),\n",
       " ('vector', \"<class 'numpy.ndarray'>\"),\n",
       " ('vector_norm', \"<class 'int'>\"),\n",
       " ('vocab', \"<class 'spacy.vocab.Vocab'>\")]"
      ]
     },
     "execution_count": 44,
     "metadata": {},
     "output_type": "execute_result"
    }
   ],
   "source": [
    "import inspect\n",
    "members = [ (x, str(type(doc.spacy_doc.__getattribute__(x)))) for x,y in inspect.getmembers(doc.spacy_doc)]\n",
    "members\n",
    "#doc.spacy_doc.__sizeof__()\n",
    "#[x for x in members if map(lambda x: x is in  'builtin_function_or_method' not in x[1] ]"
   ]
  }
 ],
 "metadata": {
  "kernelspec": {
   "display_name": "Python 3",
   "language": "python",
   "name": "python3"
  },
  "language_info": {
   "codemirror_mode": {
    "name": "ipython",
    "version": 3
   },
   "file_extension": ".py",
   "mimetype": "text/x-python",
   "name": "python",
   "nbconvert_exporter": "python",
   "pygments_lexer": "ipython3",
   "version": "3.5.3"
  },
  "toc": {
   "base_numbering": 1,
   "nav_menu": {},
   "number_sections": false,
   "sideBar": false,
   "skip_h1_title": false,
   "title_cell": "Table of Contents",
   "title_sidebar": "Contents",
   "toc_cell": false,
   "toc_position": {},
   "toc_section_display": false,
   "toc_window_display": false
  },
  "varInspector": {
   "cols": {
    "lenName": 16,
    "lenType": 16,
    "lenVar": 40
   },
   "kernels_config": {
    "python": {
     "delete_cmd_postfix": "",
     "delete_cmd_prefix": "del ",
     "library": "var_list.py",
     "varRefreshCmd": "print(var_dic_list())"
    },
    "r": {
     "delete_cmd_postfix": ") ",
     "delete_cmd_prefix": "rm(",
     "library": "var_list.r",
     "varRefreshCmd": "cat(var_dic_list()) "
    }
   },
   "position": {
    "height": "962.222px",
    "left": "1816.78px",
    "right": "20px",
    "top": "132px",
    "width": "354.194px"
   },
   "types_to_exclude": [
    "module",
    "function",
    "builtin_function_or_method",
    "instance",
    "_Feature"
   ],
   "window_display": true
  }
 },
 "nbformat": 4,
 "nbformat_minor": 2
}
