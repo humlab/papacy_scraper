{
 "cells": [
  {
   "cell_type": "markdown",
   "metadata": {},
   "source": [
    "### LDA Implemenation using Gibbs Sampling\n",
    "\n",
    "- http://www.arbylon.net/publications/text-est.pdf\n",
    "- https://svn.spraakdata.gu.se/repos/richard/pub/statnlp2015_web/vgassignment1.html\n",
    "- https://svn.spraakdata.gu.se/repos/richard/pub/statnlp2015_web/\n",
    "- https://svn.spraakdata.gu.se/repos/richard/pub/statnlp2016_web/\n",
    "\n",
    "<img src='./9_gibbs_sampling_for_lda.PNG' style=\"width: 600px;\"/>"
   ]
  },
  {
   "cell_type": "code",
   "execution_count": null,
   "metadata": {},
   "outputs": [],
   "source": []
  },
  {
   "cell_type": "code",
   "execution_count": null,
   "metadata": {},
   "outputs": [],
   "source": []
  }
 ],
 "metadata": {
  "kernelspec": {
   "display_name": "Python 3",
   "language": "python",
   "name": "python3"
  },
  "language_info": {
   "codemirror_mode": {
    "name": "ipython",
    "version": 3
   },
   "file_extension": ".py",
   "mimetype": "text/x-python",
   "name": "python",
   "nbconvert_exporter": "python",
   "pygments_lexer": "ipython3",
   "version": "3.7.3"
  }
 },
 "nbformat": 4,
 "nbformat_minor": 2
}
